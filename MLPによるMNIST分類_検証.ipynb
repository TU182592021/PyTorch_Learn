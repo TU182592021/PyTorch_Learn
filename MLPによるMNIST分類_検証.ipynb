{
 "cells": [
  {
   "cell_type": "markdown",
   "metadata": {
    "id": "xFahQAQL9ulw"
   },
   "source": [
    "活性化関数がない場合について検証"
   ]
  },
  {
   "cell_type": "code",
   "execution_count": null,
   "metadata": {
    "id": "OFpUyTOb-8Ua"
   },
   "outputs": [],
   "source": [
    "import torch\n",
    "import torch.nn as nn\n",
    "import torch.optim as optim\n",
    "import numpy as np\n",
    "import matplotlib.pyplot as plt\n",
    "import seaborn as sns\n",
    "from torchvision import datasets,transforms\n",
    "from torch.utils.data import DataLoader"
   ]
  },
  {
   "cell_type": "code",
   "execution_count": null,
   "metadata": {
    "id": "zktwnMg2CMqi"
   },
   "outputs": [],
   "source": [
    "device=\"cuda\" if torch.cuda.is_available() else \"cpu\""
   ]
  },
  {
   "cell_type": "code",
   "execution_count": null,
   "metadata": {
    "colab": {
     "base_uri": "https://localhost:8080/",
     "height": 35
    },
    "executionInfo": {
     "elapsed": 7,
     "status": "ok",
     "timestamp": 1707247440262,
     "user": {
      "displayName": "koki hinaiji",
      "userId": "17287321249308146344"
     },
     "user_tz": -540
    },
    "id": "PyTQYk06DBWM",
    "outputId": "01e3cd66-5d28-48f9-b594-c3d77f6582d5"
   },
   "outputs": [
    {
     "data": {
      "application/vnd.google.colaboratory.intrinsic+json": {
       "type": "string"
      },
      "text/plain": [
       "'cuda'"
      ]
     },
     "execution_count": 3,
     "metadata": {},
     "output_type": "execute_result"
    }
   ],
   "source": [
    "device"
   ]
  },
  {
   "cell_type": "code",
   "execution_count": null,
   "metadata": {
    "colab": {
     "base_uri": "https://localhost:8080/"
    },
    "executionInfo": {
     "elapsed": 1794,
     "status": "ok",
     "timestamp": 1707247442051,
     "user": {
      "displayName": "koki hinaiji",
      "userId": "17287321249308146344"
     },
     "user_tz": -540
    },
    "id": "Yvnn9DObDGCj",
    "outputId": "3af0a3c5-1c56-4a16-d140-f70830b14517"
   },
   "outputs": [
    {
     "name": "stdout",
     "output_type": "stream",
     "text": [
      "Downloading http://yann.lecun.com/exdb/mnist/train-images-idx3-ubyte.gz\n",
      "Downloading http://yann.lecun.com/exdb/mnist/train-images-idx3-ubyte.gz to ./data/MNIST/raw/train-images-idx3-ubyte.gz\n"
     ]
    },
    {
     "name": "stderr",
     "output_type": "stream",
     "text": [
      "100%|██████████| 9912422/9912422 [00:00<00:00, 391765399.38it/s]"
     ]
    },
    {
     "name": "stdout",
     "output_type": "stream",
     "text": [
      "Extracting ./data/MNIST/raw/train-images-idx3-ubyte.gz to ./data/MNIST/raw\n"
     ]
    },
    {
     "name": "stderr",
     "output_type": "stream",
     "text": [
      "\n"
     ]
    },
    {
     "name": "stdout",
     "output_type": "stream",
     "text": [
      "\n",
      "Downloading http://yann.lecun.com/exdb/mnist/train-labels-idx1-ubyte.gz\n",
      "Downloading http://yann.lecun.com/exdb/mnist/train-labels-idx1-ubyte.gz to ./data/MNIST/raw/train-labels-idx1-ubyte.gz\n"
     ]
    },
    {
     "name": "stderr",
     "output_type": "stream",
     "text": [
      "100%|██████████| 28881/28881 [00:00<00:00, 115477305.84it/s]\n"
     ]
    },
    {
     "name": "stdout",
     "output_type": "stream",
     "text": [
      "Extracting ./data/MNIST/raw/train-labels-idx1-ubyte.gz to ./data/MNIST/raw\n",
      "\n",
      "Downloading http://yann.lecun.com/exdb/mnist/t10k-images-idx3-ubyte.gz\n",
      "Downloading http://yann.lecun.com/exdb/mnist/t10k-images-idx3-ubyte.gz to ./data/MNIST/raw/t10k-images-idx3-ubyte.gz\n"
     ]
    },
    {
     "name": "stderr",
     "output_type": "stream",
     "text": [
      "100%|██████████| 1648877/1648877 [00:00<00:00, 158048617.32it/s]"
     ]
    },
    {
     "name": "stdout",
     "output_type": "stream",
     "text": [
      "Extracting ./data/MNIST/raw/t10k-images-idx3-ubyte.gz to ./data/MNIST/raw\n"
     ]
    },
    {
     "name": "stderr",
     "output_type": "stream",
     "text": [
      "\n"
     ]
    },
    {
     "name": "stdout",
     "output_type": "stream",
     "text": [
      "\n",
      "Downloading http://yann.lecun.com/exdb/mnist/t10k-labels-idx1-ubyte.gz\n",
      "Downloading http://yann.lecun.com/exdb/mnist/t10k-labels-idx1-ubyte.gz to ./data/MNIST/raw/t10k-labels-idx1-ubyte.gz\n"
     ]
    },
    {
     "name": "stderr",
     "output_type": "stream",
     "text": [
      "100%|██████████| 4542/4542 [00:00<00:00, 21672956.51it/s]\n"
     ]
    },
    {
     "name": "stdout",
     "output_type": "stream",
     "text": [
      "Extracting ./data/MNIST/raw/t10k-labels-idx1-ubyte.gz to ./data/MNIST/raw\n",
      "\n"
     ]
    }
   ],
   "source": [
    "transform=transforms.Compose([\n",
    "    transforms.ToTensor()\n",
    "])\n",
    "train_datase=datasets.MNIST(root=\"./data\",train=True,download=True,transform=transform)"
   ]
  },
  {
   "cell_type": "code",
   "execution_count": null,
   "metadata": {
    "id": "Hz8dmy_nh7N7"
   },
   "outputs": [],
   "source": [
    "num_batches=100"
   ]
  },
  {
   "cell_type": "code",
   "execution_count": null,
   "metadata": {
    "id": "ktbco2NViB7R"
   },
   "outputs": [],
   "source": [
    "train_dataloader=DataLoader(train_datase,batch_size=num_batches,shuffle=True)"
   ]
  },
  {
   "cell_type": "code",
   "execution_count": null,
   "metadata": {
    "id": "h_l-xhDKijDy"
   },
   "outputs": [],
   "source": [
    "train_iter=iter(train_dataloader)"
   ]
  },
  {
   "cell_type": "code",
   "execution_count": null,
   "metadata": {
    "id": "sX9McbhhiqVS"
   },
   "outputs": [],
   "source": [
    "imgs,labels=next(train_iter)"
   ]
  },
  {
   "cell_type": "code",
   "execution_count": null,
   "metadata": {
    "colab": {
     "base_uri": "https://localhost:8080/"
    },
    "executionInfo": {
     "elapsed": 6,
     "status": "ok",
     "timestamp": 1707247442052,
     "user": {
      "displayName": "koki hinaiji",
      "userId": "17287321249308146344"
     },
     "user_tz": -540
    },
    "id": "2qqzcwI8jON6",
    "outputId": "cca0100c-b94e-4af0-9fd5-346928d3ffe6"
   },
   "outputs": [
    {
     "data": {
      "text/plain": [
       "torch.Size([100, 1, 28, 28])"
      ]
     },
     "execution_count": 9,
     "metadata": {},
     "output_type": "execute_result"
    }
   ],
   "source": [
    "imgs.size()"
   ]
  },
  {
   "cell_type": "code",
   "execution_count": null,
   "metadata": {
    "colab": {
     "base_uri": "https://localhost:8080/"
    },
    "executionInfo": {
     "elapsed": 5,
     "status": "ok",
     "timestamp": 1707247442052,
     "user": {
      "displayName": "koki hinaiji",
      "userId": "17287321249308146344"
     },
     "user_tz": -540
    },
    "id": "4bTP8HADjZiw",
    "outputId": "a3e93220-613e-4e2d-ffd4-1706b235f290"
   },
   "outputs": [
    {
     "data": {
      "text/plain": [
       "tensor([6, 6, 6, 3, 4, 1, 7, 1, 9, 7, 1, 2, 3, 3, 7, 5, 1, 1, 2, 4, 7, 5, 0, 0,\n",
       "        1, 1, 4, 3, 7, 8, 0, 6, 4, 7, 2, 2, 8, 8, 2, 7, 5, 0, 8, 4, 0, 3, 5, 4,\n",
       "        1, 4, 4, 1, 1, 6, 9, 1, 0, 8, 1, 6, 9, 3, 8, 1, 6, 7, 5, 9, 5, 8, 0, 8,\n",
       "        9, 9, 1, 2, 9, 3, 6, 2, 2, 0, 2, 0, 6, 9, 0, 0, 9, 7, 6, 1, 4, 3, 5, 3,\n",
       "        3, 9, 6, 4])"
      ]
     },
     "execution_count": 10,
     "metadata": {},
     "output_type": "execute_result"
    }
   ],
   "source": [
    "labels"
   ]
  },
  {
   "cell_type": "code",
   "execution_count": null,
   "metadata": {
    "id": "2KuWURktkiM5"
   },
   "outputs": [],
   "source": [
    "img=imgs[0]"
   ]
  },
  {
   "cell_type": "code",
   "execution_count": null,
   "metadata": {
    "id": "r0doFWgSkl4i"
   },
   "outputs": [],
   "source": [
    "img_permute=img.permute(1,2,0)#順番の変更"
   ]
  },
  {
   "cell_type": "code",
   "execution_count": null,
   "metadata": {
    "colab": {
     "base_uri": "https://localhost:8080/",
     "height": 452
    },
    "executionInfo": {
     "elapsed": 1563,
     "status": "ok",
     "timestamp": 1707247443611,
     "user": {
      "displayName": "koki hinaiji",
      "userId": "17287321249308146344"
     },
     "user_tz": -540
    },
    "id": "SRcsNQrylAx5",
    "outputId": "bb8ce8f2-21e6-40c3-daaa-216480b66622"
   },
   "outputs": [
    {
     "data": {
      "text/plain": [
       "<Axes: >"
      ]
     },
     "execution_count": 13,
     "metadata": {},
     "output_type": "execute_result"
    },
    {
     "data": {
      "image/png": "[encoded data removed]",
      "text/plain": [
       "<Figure size 640x480 with 2 Axes>"
      ]
     },
     "metadata": {},
     "output_type": "display_data"
    }
   ],
   "source": [
    "sns.heatmap(img_permute.numpy()[:,:,0])#2次元配列に変更"
   ]
  },
  {
   "cell_type": "code",
   "execution_count": null,
   "metadata": {
    "colab": {
     "base_uri": "https://localhost:8080/"
    },
    "executionInfo": {
     "elapsed": 8,
     "status": "ok",
     "timestamp": 1707247443611,
     "user": {
      "displayName": "koki hinaiji",
      "userId": "17287321249308146344"
     },
     "user_tz": -540
    },
    "id": "8FKlS1jxljhO",
    "outputId": "709107d2-d8c5-40a1-9a24-f1380f914c33"
   },
   "outputs": [
    {
     "data": {
      "text/plain": [
       "tensor(6)"
      ]
     },
     "execution_count": 14,
     "metadata": {},
     "output_type": "execute_result"
    }
   ],
   "source": [
    "labels[0]"
   ]
  },
  {
   "cell_type": "code",
   "execution_count": null,
   "metadata": {
    "id": "HMTyo4g1lnvi"
   },
   "outputs": [],
   "source": [
    "#モデルの作成\n",
    "class MLP(nn.Module):\n",
    "    def __init__(self):\n",
    "        super().__init__()\n",
    "        self.classifier = nn.Sequential(\n",
    "            nn.Linear(28 * 28, 400),\n",
    "            #nn.ReLU(inplace=True),\n",
    "            nn.Linear(400, 200),\n",
    "            #nn.ReLU(inplace=True),\n",
    "            nn.Linear(200, 100),\n",
    "            #nn.ReLU(inplace=True),\n",
    "            nn.Linear(100, 10)\n",
    "        )\n",
    "    def forward(self, x):\n",
    "        output = self.classifier(x)\n",
    "        return output"
   ]
  },
  {
   "cell_type": "code",
   "execution_count": null,
   "metadata": {
    "id": "eRhHAfUZDxmv"
   },
   "outputs": [],
   "source": [
    "model=MLP()"
   ]
  },
  {
   "cell_type": "code",
   "execution_count": null,
   "metadata": {
    "colab": {
     "base_uri": "https://localhost:8080/"
    },
    "executionInfo": {
     "elapsed": 6,
     "status": "ok",
     "timestamp": 1707247443611,
     "user": {
      "displayName": "koki hinaiji",
      "userId": "17287321249308146344"
     },
     "user_tz": -540
    },
    "id": "XmjRw4_qD3iI",
    "outputId": "e9b6392f-e471-459e-83a0-9bd2b996f126"
   },
   "outputs": [
    {
     "data": {
      "text/plain": [
       "MLP(\n",
       "  (classifier): Sequential(\n",
       "    (0): Linear(in_features=784, out_features=400, bias=True)\n",
       "    (1): Linear(in_features=400, out_features=200, bias=True)\n",
       "    (2): Linear(in_features=200, out_features=100, bias=True)\n",
       "    (3): Linear(in_features=100, out_features=10, bias=True)\n",
       "  )\n",
       ")"
      ]
     },
     "execution_count": 17,
     "metadata": {},
     "output_type": "execute_result"
    }
   ],
   "source": [
    "model.to(device)"
   ]
  },
  {
   "cell_type": "code",
   "execution_count": null,
   "metadata": {
    "id": "vlTJMSA-Fjm2"
   },
   "outputs": [],
   "source": [
    "criterion=nn.CrossEntropyLoss()#損失関数、他クラス分類なのでCrossEntropyLoss関数を使用する\n",
    "optimizer=optim.Adam(model.parameters(),lr=0.001)#モデルのパラメーターの値を渡し、ラーニングレートを設定する"
   ]
  },
  {
   "cell_type": "code",
   "execution_count": null,
   "metadata": {
    "colab": {
     "base_uri": "https://localhost:8080/"
    },
    "executionInfo": {
     "elapsed": 123641,
     "status": "ok",
     "timestamp": 1707247567247,
     "user": {
      "displayName": "koki hinaiji",
      "userId": "17287321249308146344"
     },
     "user_tz": -540
    },
    "id": "aaVTOphVVT9l",
    "outputId": "42107d24-595a-4a35-8101-c8a5848a83fc"
   },
   "outputs": [
    {
     "name": "stdout",
     "output_type": "stream",
     "text": [
      "epoch: 0,loss: 0.39569672365983327,acc: 0.8876343965530396,\n",
      "epoch: 1,loss: 0.31997941492746274,acc: 0.908067524433136,\n",
      "epoch: 2,loss: 0.311447904681166,acc: 0.9123342037200928,\n",
      "epoch: 3,loss: 0.3005036370207866,acc: 0.9152006506919861,\n",
      "epoch: 4,loss: 0.2972149011368553,acc: 0.9156010150909424,\n",
      "epoch: 5,loss: 0.2933324701959888,acc: 0.9172005653381348,\n",
      "epoch: 6,loss: 0.28958124125997226,acc: 0.918550968170166,\n",
      "epoch: 7,loss: 0.28329054462412995,acc: 0.9201839566230774,\n",
      "epoch: 8,loss: 0.2817927098025878,acc: 0.9205843210220337,\n",
      "epoch: 9,loss: 0.27751257025947174,acc: 0.9220682978630066,\n",
      "epoch: 10,loss: 0.27645518161356447,acc: 0.9221678972244263,\n",
      "epoch: 11,loss: 0.27550775777548553,acc: 0.9228512048721313,\n",
      "epoch: 12,loss: 0.27229106970131395,acc: 0.9234674572944641,\n",
      "epoch: 13,loss: 0.2705715252831578,acc: 0.9235010743141174,\n",
      "epoch: 14,loss: 0.2692926421016455,acc: 0.9238345623016357,\n"
     ]
    }
   ],
   "source": [
    "#学習\n",
    "num_epochs=15\n",
    "losses=[]#損失\n",
    "accs=[]#精度\n",
    "for epoch in range(num_epochs):\n",
    "    running_loss=0.0\n",
    "    running_acc=0.0\n",
    "    for imgs,labels in train_dataloader:#ミニバッチのル－プ\n",
    "        imgs=imgs.view(num_batches,-1)#画像データを1次元ベクトルに変形\n",
    "        imgs=imgs.to(device)#GPU上にデータを送る\n",
    "        labels=labels.to(device)#GPU上にデータを送る\n",
    "        optimizer.zero_grad()#optimizerの初期化\n",
    "        output=model(imgs)\n",
    "        loss=criterion(output,labels)\n",
    "        running_loss+=loss.item()#損失の計算\n",
    "        pred=torch.argmax(output,dim=1)#分類方向の最大値を代入(予測値)\n",
    "        running_acc+=torch.mean(pred.eq(labels).float())#labelsと等しいかどうか判断、平均値をとるためfloat型に変換すること\n",
    "        loss.backward()#誤差逆伝播\n",
    "        optimizer.step()#重みの更新\n",
    "    running_loss/=len(train_dataloader)\n",
    "    running_acc/=len(train_dataloader)\n",
    "    losses.append(running_loss)\n",
    "    accs.append(running_acc)\n",
    "    print(\"epoch: {},loss: {},acc: {},\".format(epoch,running_loss,running_acc))\n"
   ]
  },
  {
   "cell_type": "code",
   "execution_count": null,
   "metadata": {
    "colab": {
     "base_uri": "https://localhost:8080/",
     "height": 106
    },
    "executionInfo": {
     "elapsed": 17,
     "status": "ok",
     "timestamp": 1707247567247,
     "user": {
      "displayName": "koki hinaiji",
      "userId": "17287321249308146344"
     },
     "user_tz": -540
    },
    "id": "f3x-osygjjsA",
    "outputId": "552f748d-01b0-4f00-c91a-27d12281ec71"
   },
   "outputs": [
    {
     "data": {
      "text/plain": [
       "[<matplotlib.lines.Line2D at 0x7d04adca2170>]"
      ]
     },
     "execution_count": 20,
     "metadata": {},
     "output_type": "execute_result"
    },
    {
     "data": {
      "image/png": "[encoded data removed]",
      "text/plain": [
       "<Figure size 640x480 with 1 Axes>"
      ]
     },
     "metadata": {},
     "output_type": "display_data"
    }
   ],
   "source": [
    "plt.plot(losses)"
   ]
  },
  {
   "cell_type": "code",
   "execution_count": null,
   "metadata": {
    "colab": {
     "base_uri": "https://localhost:8080/",
     "height": 106
    },
    "executionInfo": {
     "elapsed": 6,
     "status": "ok",
     "timestamp": 1707247567247,
     "user": {
      "displayName": "koki hinaiji",
      "userId": "17287321249308146344"
     },
     "user_tz": -540
    },
    "id": "g4BS5C4KjnDd",
    "outputId": "429aadbd-02e5-450e-aec0-726276742212"
   },
   "outputs": [
    {
     "data": {
      "text/plain": [
       "[<matplotlib.lines.Line2D at 0x7d04ac0dd540>]"
      ]
     },
     "execution_count": 21,
     "metadata": {},
     "output_type": "execute_result"
    },
    {
     "data": {
      "image/png": "[encoded data removed]",
      "text/plain": [
       "<Figure size 640x480 with 1 Axes>"
      ]
     },
     "metadata": {},
     "output_type": "display_data"
    }
   ],
   "source": [
    "plt.plot([accs_.cpu() for accs_ in accs], label=\"train acc\")"
   ]
  },
  {
   "cell_type": "code",
   "execution_count": null,
   "metadata": {
    "id": "ilasgZL2jrqi"
   },
   "outputs": [],
   "source": [
    "train_iter=iter(train_dataloader)"
   ]
  },
  {
   "cell_type": "code",
   "execution_count": null,
   "metadata": {
    "id": "hBejRTRlk99Y"
   },
   "outputs": [],
   "source": [
    "imgs, labels = next(train_iter)"
   ]
  },
  {
   "cell_type": "code",
   "execution_count": null,
   "metadata": {
    "colab": {
     "base_uri": "https://localhost:8080/"
    },
    "executionInfo": {
     "elapsed": 11,
     "status": "ok",
     "timestamp": 1707247567847,
     "user": {
      "displayName": "koki hinaiji",
      "userId": "17287321249308146344"
     },
     "user_tz": -540
    },
    "id": "xphyiNrBl9u-",
    "outputId": "25b56dd8-dcd0-4a9e-daca-236daa201dcd"
   },
   "outputs": [
    {
     "data": {
      "text/plain": [
       "tensor([6, 2, 9, 8, 5, 8, 3, 8, 0, 3, 4, 9, 9, 3, 0, 7, 1, 7, 3, 4, 7, 6, 1, 1,\n",
       "        0, 6, 0, 8, 2, 4, 4, 5, 5, 9, 4, 6, 2, 8, 3, 0, 2, 2, 7, 0, 2, 7, 7, 0,\n",
       "        1, 0, 6, 5, 9, 3, 3, 4, 9, 7, 2, 2, 2, 5, 6, 7, 3, 8, 5, 5, 7, 8, 6, 1,\n",
       "        1, 0, 3, 6, 4, 7, 8, 4, 2, 2, 1, 8, 2, 3, 1, 4, 8, 2, 3, 2, 6, 7, 0, 1,\n",
       "        4, 7, 1, 9])"
      ]
     },
     "execution_count": 24,
     "metadata": {},
     "output_type": "execute_result"
    }
   ],
   "source": [
    "labels"
   ]
  },
  {
   "cell_type": "code",
   "execution_count": null,
   "metadata": {
    "id": "5SIXNbjal_rK"
   },
   "outputs": [],
   "source": [
    "imgs_gpu=imgs.view(100,-1).to(device)\n",
    "output=model(imgs_gpu)"
   ]
  },
  {
   "cell_type": "code",
   "execution_count": null,
   "metadata": {
    "id": "IZci4vHNm-Q2"
   },
   "outputs": [],
   "source": [
    "pred=torch.argmax(output,dim=1)"
   ]
  },
  {
   "cell_type": "code",
   "execution_count": null,
   "metadata": {
    "colab": {
     "base_uri": "https://localhost:8080/"
    },
    "executionInfo": {
     "elapsed": 10,
     "status": "ok",
     "timestamp": 1707247567848,
     "user": {
      "displayName": "koki hinaiji",
      "userId": "17287321249308146344"
     },
     "user_tz": -540
    },
    "id": "2DeK7bsenIEI",
    "outputId": "915e4bbe-ebba-4891-fca5-388207ae4c58"
   },
   "outputs": [
    {
     "data": {
      "text/plain": [
       "tensor([6, 2, 9, 8, 5, 8, 3, 8, 0, 3, 4, 9, 9, 3, 0, 7, 1, 7, 3, 4, 7, 6, 1, 1,\n",
       "        0, 6, 0, 3, 8, 4, 9, 5, 5, 9, 4, 6, 2, 8, 3, 0, 2, 2, 7, 0, 2, 9, 7, 0,\n",
       "        1, 0, 6, 2, 9, 3, 3, 4, 9, 7, 2, 2, 2, 2, 6, 7, 3, 8, 5, 5, 9, 8, 6, 1,\n",
       "        1, 0, 3, 6, 4, 7, 8, 4, 2, 2, 1, 8, 2, 3, 1, 4, 8, 2, 3, 2, 6, 7, 0, 1,\n",
       "        6, 7, 1, 9], device='cuda:0')"
      ]
     },
     "execution_count": 27,
     "metadata": {},
     "output_type": "execute_result"
    }
   ],
   "source": [
    "pred"
   ]
  },
  {
   "cell_type": "code",
   "execution_count": null,
   "metadata": {
    "id": "5avUheVwnndb"
   },
   "outputs": [],
   "source": [
    "params=model.state_dict()#モデルの重みやバイアスを抜き出す"
   ]
  },
  {
   "cell_type": "code",
   "execution_count": null,
   "metadata": {
    "id": "1yxtxEb5n0lO"
   },
   "outputs": [],
   "source": [
    "torch.save(params,\"model.prm\")#保存"
   ]
  },
  {
   "cell_type": "code",
   "execution_count": null,
   "metadata": {
    "colab": {
     "base_uri": "https://localhost:8080/"
    },
    "executionInfo": {
     "elapsed": 8,
     "status": "ok",
     "timestamp": 1707247567848,
     "user": {
      "displayName": "koki hinaiji",
      "userId": "17287321249308146344"
     },
     "user_tz": -540
    },
    "id": "Q4kbKAXgn9jz",
    "outputId": "844d587d-d554-4f7a-e36e-642a5c725971"
   },
   "outputs": [
    {
     "name": "stdout",
     "output_type": "stream",
     "text": [
      "data  model.prm  sample_data\n"
     ]
    }
   ],
   "source": [
    "!ls"
   ]
  },
  {
   "cell_type": "code",
   "execution_count": null,
   "metadata": {
    "id": "TPwXkrnBoKBx"
   },
   "outputs": [],
   "source": [
    "param_load=torch.load(\"model.prm\")#読込み"
   ]
  },
  {
   "cell_type": "code",
   "execution_count": null,
   "metadata": {
    "colab": {
     "base_uri": "https://localhost:8080/"
    },
    "executionInfo": {
     "elapsed": 6,
     "status": "ok",
     "timestamp": 1707247567848,
     "user": {
      "displayName": "koki hinaiji",
      "userId": "17287321249308146344"
     },
     "user_tz": -540
    },
    "id": "_YEhhmZZoRQu",
    "outputId": "f4cca364-5c1a-4b5b-a7d8-09b3a321ac4f"
   },
   "outputs": [
    {
     "data": {
      "text/plain": [
       "<All keys matched successfully>"
      ]
     },
     "execution_count": 32,
     "metadata": {},
     "output_type": "execute_result"
    }
   ],
   "source": [
    "model.load_state_dict(param_load)"
   ]
  },
  {
   "cell_type": "code",
   "execution_count": null,
   "metadata": {
    "id": "ECoch06OoSVa"
   },
   "outputs": [],
   "source": []
  }
 ],
 "metadata": {
  "accelerator": "GPU",
  "colab": {
   "authorship_tag": "ABX9TyNWiCr1iyMU3xZMrwbEGXFG",
   "gpuType": "T4",
   "provenance": []
  },
  "kernelspec": {
   "display_name": "Python 3",
   "name": "python3"
  },
  "language_info": {
   "name": "python"
  }
 },
 "nbformat": 4,
 "nbformat_minor": 0
}
