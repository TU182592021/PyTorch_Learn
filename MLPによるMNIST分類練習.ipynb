{
 "cells": [
  {
   "cell_type": "code",
   "execution_count": 1,
   "metadata": {
    "executionInfo": {
     "elapsed": 4027,
     "status": "ok",
     "timestamp": 1706973464367,
     "user": {
      "displayName": "koki hinaiji",
      "userId": "17287321249308146344"
     },
     "user_tz": -540
    },
    "id": "OFpUyTOb-8Ua"
   },
   "outputs": [],
   "source": [
    "import torch\n",
    "import torch.nn as nn\n",
    "import torch.optim as optim\n",
    "import numpy as np\n",
    "import matplotlib.pyplot as plt\n",
    "import seaborn as sns\n",
    "from torchvision import datasets,transforms\n",
    "from torch.utils.data import DataLoader"
   ]
  },
  {
   "cell_type": "code",
   "execution_count": 2,
   "metadata": {
    "executionInfo": {
     "elapsed": 5,
     "status": "ok",
     "timestamp": 1706973464368,
     "user": {
      "displayName": "koki hinaiji",
      "userId": "17287321249308146344"
     },
     "user_tz": -540
    },
    "id": "zktwnMg2CMqi"
   },
   "outputs": [],
   "source": [
    "device=\"cuda\" if torch.cuda.is_available() else \"cpu\""
   ]
  },
  {
   "cell_type": "code",
   "execution_count": 3,
   "metadata": {
    "colab": {
     "base_uri": "https://localhost:8080/",
     "height": 35
    },
    "executionInfo": {
     "elapsed": 5,
     "status": "ok",
     "timestamp": 1706973464368,
     "user": {
      "displayName": "koki hinaiji",
      "userId": "17287321249308146344"
     },
     "user_tz": -540
    },
    "id": "PyTQYk06DBWM",
    "outputId": "246918b1-4030-4c72-e7a3-97110f092911"
   },
   "outputs": [
    {
     "data": {
      "application/vnd.google.colaboratory.intrinsic+json": {
       "type": "string"
      },
      "text/plain": [
       "'cuda'"
      ]
     },
     "execution_count": 3,
     "metadata": {},
     "output_type": "execute_result"
    }
   ],
   "source": [
    "device"
   ]
  },
  {
   "cell_type": "code",
   "execution_count": 4,
   "metadata": {
    "executionInfo": {
     "elapsed": 1133,
     "status": "ok",
     "timestamp": 1706973465498,
     "user": {
      "displayName": "koki hinaiji",
      "userId": "17287321249308146344"
     },
     "user_tz": -540
    },
    "id": "Yvnn9DObDGCj"
   },
   "outputs": [],
   "source": [
    "transform=transforms.Compose([\n",
    "    transforms.ToTensor()\n",
    "])\n",
    "train_datase=datasets.MNIST(root=\"./data\",train=True,download=True,transform=transform)"
   ]
  },
  {
   "cell_type": "code",
   "execution_count": 5,
   "metadata": {
    "executionInfo": {
     "elapsed": 9,
     "status": "ok",
     "timestamp": 1706973465498,
     "user": {
      "displayName": "koki hinaiji",
      "userId": "17287321249308146344"
     },
     "user_tz": -540
    },
    "id": "Hz8dmy_nh7N7"
   },
   "outputs": [],
   "source": [
    "num_batches=100"
   ]
  },
  {
   "cell_type": "code",
   "execution_count": 6,
   "metadata": {
    "executionInfo": {
     "elapsed": 9,
     "status": "ok",
     "timestamp": 1706973465498,
     "user": {
      "displayName": "koki hinaiji",
      "userId": "17287321249308146344"
     },
     "user_tz": -540
    },
    "id": "ktbco2NViB7R"
   },
   "outputs": [],
   "source": [
    "train_dataloader=DataLoader(train_datase,batch_size=num_batches,shuffle=True)"
   ]
  },
  {
   "cell_type": "code",
   "execution_count": 7,
   "metadata": {
    "executionInfo": {
     "elapsed": 8,
     "status": "ok",
     "timestamp": 1706973465498,
     "user": {
      "displayName": "koki hinaiji",
      "userId": "17287321249308146344"
     },
     "user_tz": -540
    },
    "id": "h_l-xhDKijDy"
   },
   "outputs": [],
   "source": [
    "train_iter=iter(train_dataloader)"
   ]
  },
  {
   "cell_type": "code",
   "execution_count": 8,
   "metadata": {
    "executionInfo": {
     "elapsed": 8,
     "status": "ok",
     "timestamp": 1706973465498,
     "user": {
      "displayName": "koki hinaiji",
      "userId": "17287321249308146344"
     },
     "user_tz": -540
    },
    "id": "sX9McbhhiqVS"
   },
   "outputs": [],
   "source": [
    "imgs,labels=next(train_iter)"
   ]
  },
  {
   "cell_type": "code",
   "execution_count": 9,
   "metadata": {
    "colab": {
     "base_uri": "https://localhost:8080/"
    },
    "executionInfo": {
     "elapsed": 8,
     "status": "ok",
     "timestamp": 1706973465498,
     "user": {
      "displayName": "koki hinaiji",
      "userId": "17287321249308146344"
     },
     "user_tz": -540
    },
    "id": "2qqzcwI8jON6",
    "outputId": "58b667a9-cfb5-48ef-f4b1-3e57f68892e0"
   },
   "outputs": [
    {
     "data": {
      "text/plain": [
       "torch.Size([100, 1, 28, 28])"
      ]
     },
     "execution_count": 9,
     "metadata": {},
     "output_type": "execute_result"
    }
   ],
   "source": [
    "imgs.size()"
   ]
  },
  {
   "cell_type": "code",
   "execution_count": 10,
   "metadata": {
    "colab": {
     "base_uri": "https://localhost:8080/"
    },
    "executionInfo": {
     "elapsed": 8,
     "status": "ok",
     "timestamp": 1706973465499,
     "user": {
      "displayName": "koki hinaiji",
      "userId": "17287321249308146344"
     },
     "user_tz": -540
    },
    "id": "4bTP8HADjZiw",
    "outputId": "26959ec2-76f0-45dd-c87c-4a96595c6dcb"
   },
   "outputs": [
    {
     "data": {
      "text/plain": [
       "tensor([4, 8, 8, 5, 0, 1, 6, 8, 5, 1, 3, 8, 6, 7, 8, 0, 4, 1, 3, 4, 3, 4, 4, 9,\n",
       "        6, 5, 4, 3, 6, 6, 7, 2, 0, 2, 0, 0, 4, 9, 9, 3, 5, 9, 3, 7, 9, 8, 6, 5,\n",
       "        7, 8, 5, 8, 0, 8, 5, 7, 3, 9, 1, 5, 0, 3, 4, 1, 5, 3, 2, 8, 2, 6, 7, 7,\n",
       "        4, 4, 4, 1, 0, 9, 9, 9, 1, 7, 9, 8, 8, 7, 1, 5, 7, 6, 1, 3, 7, 7, 6, 7,\n",
       "        6, 8, 0, 6])"
      ]
     },
     "execution_count": 10,
     "metadata": {},
     "output_type": "execute_result"
    }
   ],
   "source": [
    "labels"
   ]
  },
  {
   "cell_type": "code",
   "execution_count": 11,
   "metadata": {
    "executionInfo": {
     "elapsed": 7,
     "status": "ok",
     "timestamp": 1706973465499,
     "user": {
      "displayName": "koki hinaiji",
      "userId": "17287321249308146344"
     },
     "user_tz": -540
    },
    "id": "2KuWURktkiM5"
   },
   "outputs": [],
   "source": [
    "img=imgs[0]"
   ]
  },
  {
   "cell_type": "code",
   "execution_count": 12,
   "metadata": {
    "executionInfo": {
     "elapsed": 7,
     "status": "ok",
     "timestamp": 1706973465499,
     "user": {
      "displayName": "koki hinaiji",
      "userId": "17287321249308146344"
     },
     "user_tz": -540
    },
    "id": "r0doFWgSkl4i"
   },
   "outputs": [],
   "source": [
    "img_permute=img.permute(1,2,0)#順番の変更"
   ]
  },
  {
   "cell_type": "code",
   "execution_count": 13,
   "metadata": {
    "colab": {
     "base_uri": "https://localhost:8080/",
     "height": 452
    },
    "executionInfo": {
     "elapsed": 7,
     "status": "ok",
     "timestamp": 1706973465499,
     "user": {
      "displayName": "koki hinaiji",
      "userId": "17287321249308146344"
     },
     "user_tz": -540
    },
    "id": "SRcsNQrylAx5",
    "outputId": "6f8db4fb-7044-4705-d700-cd8780043287"
   },
   "outputs": [
    {
     "data": {
      "text/plain": [
       "<Axes: >"
      ]
     },
     "execution_count": 13,
     "metadata": {},
     "output_type": "execute_result"
    },
    {
     "data": {
      "image/png": "[encoded data removed]",
      "text/plain": [
       "<Figure size 640x480 with 2 Axes>"
      ]
     },
     "metadata": {},
     "output_type": "display_data"
    }
   ],
   "source": [
    "sns.heatmap(img_permute.numpy()[:,:,0])#2次元配列に変更"
   ]
  },
  {
   "cell_type": "code",
   "execution_count": 14,
   "metadata": {
    "colab": {
     "base_uri": "https://localhost:8080/"
    },
    "executionInfo": {
     "elapsed": 6,
     "status": "ok",
     "timestamp": 1706973465499,
     "user": {
      "displayName": "koki hinaiji",
      "userId": "17287321249308146344"
     },
     "user_tz": -540
    },
    "id": "8FKlS1jxljhO",
    "outputId": "c12c10e8-8e2c-49ad-ca02-1b608a521c92"
   },
   "outputs": [
    {
     "data": {
      "text/plain": [
       "tensor(4)"
      ]
     },
     "execution_count": 14,
     "metadata": {},
     "output_type": "execute_result"
    }
   ],
   "source": [
    "labels[0]"
   ]
  },
  {
   "cell_type": "code",
   "execution_count": 15,
   "metadata": {
    "executionInfo": {
     "elapsed": 5,
     "status": "ok",
     "timestamp": 1706973465499,
     "user": {
      "displayName": "koki hinaiji",
      "userId": "17287321249308146344"
     },
     "user_tz": -540
    },
    "id": "HMTyo4g1lnvi"
   },
   "outputs": [],
   "source": [
    "#モデルの作成\n",
    "class MLP(nn.Module):\n",
    "    def __init__(self):\n",
    "        super().__init__()\n",
    "        self.classifier = nn.Sequential(\n",
    "            nn.Linear(28 * 28, 400),\n",
    "            nn.ReLU(inplace=True),\n",
    "            nn.Linear(400, 200),\n",
    "            nn.ReLU(inplace=True),\n",
    "            nn.Linear(200, 100),\n",
    "            nn.ReLU(inplace=True),\n",
    "            nn.Linear(100, 10)\n",
    "        )\n",
    "    def forward(self, x):\n",
    "        output = self.classifier(x)\n",
    "        return output"
   ]
  },
  {
   "cell_type": "code",
   "execution_count": 16,
   "metadata": {
    "executionInfo": {
     "elapsed": 5,
     "status": "ok",
     "timestamp": 1706973465499,
     "user": {
      "displayName": "koki hinaiji",
      "userId": "17287321249308146344"
     },
     "user_tz": -540
    },
    "id": "eRhHAfUZDxmv"
   },
   "outputs": [],
   "source": [
    "model=MLP()"
   ]
  },
  {
   "cell_type": "code",
   "execution_count": 17,
   "metadata": {
    "colab": {
     "base_uri": "https://localhost:8080/"
    },
    "executionInfo": {
     "elapsed": 538,
     "status": "ok",
     "timestamp": 1706973466032,
     "user": {
      "displayName": "koki hinaiji",
      "userId": "17287321249308146344"
     },
     "user_tz": -540
    },
    "id": "XmjRw4_qD3iI",
    "outputId": "d1cb64cb-6868-42ca-9a7f-d674cf3191fb"
   },
   "outputs": [
    {
     "data": {
      "text/plain": [
       "MLP(\n",
       "  (classifier): Sequential(\n",
       "    (0): Linear(in_features=784, out_features=400, bias=True)\n",
       "    (1): ReLU(inplace=True)\n",
       "    (2): Linear(in_features=400, out_features=200, bias=True)\n",
       "    (3): ReLU(inplace=True)\n",
       "    (4): Linear(in_features=200, out_features=100, bias=True)\n",
       "    (5): ReLU(inplace=True)\n",
       "    (6): Linear(in_features=100, out_features=10, bias=True)\n",
       "  )\n",
       ")"
      ]
     },
     "execution_count": 17,
     "metadata": {},
     "output_type": "execute_result"
    }
   ],
   "source": [
    "model.to(device)"
   ]
  },
  {
   "cell_type": "code",
   "execution_count": 18,
   "metadata": {
    "executionInfo": {
     "elapsed": 1,
     "status": "ok",
     "timestamp": 1706973466032,
     "user": {
      "displayName": "koki hinaiji",
      "userId": "17287321249308146344"
     },
     "user_tz": -540
    },
    "id": "vlTJMSA-Fjm2"
   },
   "outputs": [],
   "source": [
    "criterion=nn.CrossEntropyLoss()#損失関数、他クラス分類なのでCrossEntropyLoss関数を使用する\n",
    "optimizer=optim.Adam(model.parameters(),lr=0.001)#モデルのパラメーターの値を渡し、ラーニングレートを設定する"
   ]
  },
  {
   "cell_type": "code",
   "execution_count": null,
   "metadata": {
    "colab": {
     "base_uri": "https://localhost:8080/"
    },
    "executionInfo": {
     "elapsed": 125055,
     "status": "ok",
     "timestamp": 1706973591086,
     "user": {
      "displayName": "koki hinaiji",
      "userId": "17287321249308146344"
     },
     "user_tz": -540
    },
    "id": "aaVTOphVVT9l",
    "outputId": "1d657c77-1c41-4e03-bfff-1a2c339423ed"
   },
   "outputs": [
    {
     "name": "stdout",
     "output_type": "stream",
     "text": [
      "epoch: 0,loss: 0.31450156213094793,acc: 0.9038339257240295,\n",
      "epoch: 1,loss: 0.1092894394385318,acc: 0.9661833047866821,\n",
      "epoch: 2,loss: 0.07265936461432526,acc: 0.9776989817619324,\n",
      "epoch: 3,loss: 0.05129580600458818,acc: 0.983965277671814,\n",
      "epoch: 4,loss: 0.03734934162949988,acc: 0.9884981513023376,\n",
      "epoch: 5,loss: 0.03414483013601663,acc: 0.9891650676727295,\n",
      "epoch: 6,loss: 0.025095504526640677,acc: 0.9915819764137268,\n",
      "epoch: 7,loss: 0.02085827150614932,acc: 0.9928317666053772,\n",
      "epoch: 8,loss: 0.021059461662565202,acc: 0.9931817650794983,\n",
      "epoch: 9,loss: 0.019583551024128003,acc: 0.9932312369346619,\n",
      "epoch: 10,loss: 0.014224306540951753,acc: 0.9954319596290588,\n",
      "epoch: 11,loss: 0.011824227477148574,acc: 0.9959151148796082,\n",
      "epoch: 12,loss: 0.013873214194051494,acc: 0.9955151677131653,\n",
      "epoch: 13,loss: 0.012911964323411667,acc: 0.9957653880119324,\n",
      "epoch: 14,loss: 0.010569305734570662,acc: 0.9966656565666199,\n"
     ]
    }
   ],
   "source": [
    "#学習\n",
    "num_epochs=15\n",
    "losses=[]#損失\n",
    "accs=[]#精度\n",
    "for epoch in range(num_epochs):\n",
    "    running_loss=0.0\n",
    "    running_acc=0.0\n",
    "    for imgs,labels in train_dataloader:#ミニバッチのル－プ\n",
    "        imgs=imgs.view(num_batches,-1)#画像データを1次元ベクトルに変形\n",
    "        imgs=imgs.to(device)#GPU上にデータを送る\n",
    "        labels=labels.to(device)#GPU上にデータを送る\n",
    "        optimizer.zero_grad()#optimizerの初期化\n",
    "        output=model(imgs)\n",
    "        loss=criterion(output,labels)\n",
    "        running_loss+=loss.item()#損失の計算\n",
    "        pred=torch.argmax(output,dim=1)#分類方向の最大値を代入(予測値)\n",
    "        running_acc+=torch.mean(pred.eq(labels).float())#labelsと等しいかどうか判断、平均値をとるためfloat型に変換すること\n",
    "        loss.backward()#誤差逆伝播\n",
    "        optimizer.step()#重みの更新\n",
    "    running_loss/=len(train_dataloader)\n",
    "    running_acc/=len(train_dataloader)\n",
    "    losses.append(running_loss)\n",
    "    accs.append(running_acc)\n",
    "    print(\"epoch: {},loss: {},acc: {},\".format(epoch,running_loss,running_acc))\n"
   ]
  },
  {
   "cell_type": "code",
   "execution_count": 20,
   "metadata": {
    "colab": {
     "base_uri": "https://localhost:8080/",
     "height": 447
    },
    "executionInfo": {
     "elapsed": 1532,
     "status": "ok",
     "timestamp": 1706973625385,
     "user": {
      "displayName": "koki hinaiji",
      "userId": "17287321249308146344"
     },
     "user_tz": -540
    },
    "id": "f3x-osygjjsA",
    "outputId": "a7bb5ce8-fd98-4242-9a4d-bfc1289b9632"
   },
   "outputs": [
    {
     "data": {
      "text/plain": [
       "[<matplotlib.lines.Line2D at 0x7ee019d88b20>]"
      ]
     },
     "execution_count": 20,
     "metadata": {},
     "output_type": "execute_result"
    },
    {
     "data": {
      "image/png": "[encoded data removed]",
      "text/plain": [
       "<Figure size 640x480 with 1 Axes>"
      ]
     },
     "metadata": {},
     "output_type": "display_data"
    }
   ],
   "source": [
    "plt.plot(losses)"
   ]
  },
  {
   "cell_type": "code",
   "execution_count": 23,
   "metadata": {
    "colab": {
     "base_uri": "https://localhost:8080/",
     "height": 448
    },
    "executionInfo": {
     "elapsed": 432,
     "status": "ok",
     "timestamp": 1706973867040,
     "user": {
      "displayName": "koki hinaiji",
      "userId": "17287321249308146344"
     },
     "user_tz": -540
    },
    "id": "g4BS5C4KjnDd",
    "outputId": "2eb6df27-8d74-4a53-abe2-5a8db29a1819"
   },
   "outputs": [
    {
     "data": {
      "text/plain": [
       "[<matplotlib.lines.Line2D at 0x7ee019cdf730>]"
      ]
     },
     "execution_count": 23,
     "metadata": {},
     "output_type": "execute_result"
    },
    {
     "data": {
      "image/png": "[encoded data removed]",
      "text/plain": [
       "<Figure size 640x480 with 1 Axes>"
      ]
     },
     "metadata": {},
     "output_type": "display_data"
    }
   ],
   "source": [
    "plt.plot([accs_.cpu() for accs_ in accs], label=\"train acc\")"
   ]
  },
  {
   "cell_type": "code",
   "execution_count": 24,
   "metadata": {
    "executionInfo": {
     "elapsed": 352,
     "status": "ok",
     "timestamp": 1706973977214,
     "user": {
      "displayName": "koki hinaiji",
      "userId": "17287321249308146344"
     },
     "user_tz": -540
    },
    "id": "ilasgZL2jrqi"
   },
   "outputs": [],
   "source": [
    "train_iter=iter(train_dataloader)"
   ]
  },
  {
   "cell_type": "code",
   "execution_count": 27,
   "metadata": {
    "executionInfo": {
     "elapsed": 2,
     "status": "ok",
     "timestamp": 1706974237302,
     "user": {
      "displayName": "koki hinaiji",
      "userId": "17287321249308146344"
     },
     "user_tz": -540
    },
    "id": "hBejRTRlk99Y"
   },
   "outputs": [],
   "source": [
    "imgs, labels = next(train_iter)"
   ]
  },
  {
   "cell_type": "code",
   "execution_count": 28,
   "metadata": {
    "colab": {
     "base_uri": "https://localhost:8080/"
    },
    "executionInfo": {
     "elapsed": 2,
     "status": "ok",
     "timestamp": 1706974247709,
     "user": {
      "displayName": "koki hinaiji",
      "userId": "17287321249308146344"
     },
     "user_tz": -540
    },
    "id": "xphyiNrBl9u-",
    "outputId": "91de5f34-f2a0-47e6-9f1c-8b61ca7c414f"
   },
   "outputs": [
    {
     "data": {
      "text/plain": [
       "tensor([2, 9, 2, 5, 0, 3, 7, 0, 4, 7, 7, 0, 6, 3, 7, 4, 6, 1, 3, 3, 4, 1, 1, 5,\n",
       "        8, 2, 6, 6, 4, 2, 2, 3, 6, 6, 5, 1, 0, 8, 7, 5, 0, 1, 1, 7, 6, 4, 9, 8,\n",
       "        0, 8, 1, 9, 6, 8, 7, 7, 7, 4, 4, 2, 2, 8, 0, 8, 9, 4, 3, 5, 8, 2, 8, 7,\n",
       "        2, 1, 8, 9, 5, 5, 2, 0, 7, 1, 8, 3, 9, 7, 3, 5, 1, 3, 4, 7, 4, 1, 1, 6,\n",
       "        8, 5, 6, 7])"
      ]
     },
     "execution_count": 28,
     "metadata": {},
     "output_type": "execute_result"
    }
   ],
   "source": [
    "labels"
   ]
  },
  {
   "cell_type": "code",
   "execution_count": 29,
   "metadata": {
    "executionInfo": {
     "elapsed": 391,
     "status": "ok",
     "timestamp": 1706974496131,
     "user": {
      "displayName": "koki hinaiji",
      "userId": "17287321249308146344"
     },
     "user_tz": -540
    },
    "id": "5SIXNbjal_rK"
   },
   "outputs": [],
   "source": [
    "imgs_gpu=imgs.view(100,-1).to(device)\n",
    "output=model(imgs_gpu)"
   ]
  },
  {
   "cell_type": "code",
   "execution_count": 30,
   "metadata": {
    "executionInfo": {
     "elapsed": 374,
     "status": "ok",
     "timestamp": 1706974544069,
     "user": {
      "displayName": "koki hinaiji",
      "userId": "17287321249308146344"
     },
     "user_tz": -540
    },
    "id": "IZci4vHNm-Q2"
   },
   "outputs": [],
   "source": [
    "pred=torch.argmax(output,dim=1)"
   ]
  },
  {
   "cell_type": "code",
   "execution_count": 31,
   "metadata": {
    "colab": {
     "base_uri": "https://localhost:8080/"
    },
    "executionInfo": {
     "elapsed": 2,
     "status": "ok",
     "timestamp": 1706974548928,
     "user": {
      "displayName": "koki hinaiji",
      "userId": "17287321249308146344"
     },
     "user_tz": -540
    },
    "id": "2DeK7bsenIEI",
    "outputId": "836857b9-c0f9-4566-9ef9-4c3059487257"
   },
   "outputs": [
    {
     "data": {
      "text/plain": [
       "tensor([2, 9, 2, 5, 0, 3, 7, 0, 4, 7, 7, 0, 6, 3, 7, 4, 6, 1, 3, 3, 4, 1, 1, 5,\n",
       "        8, 2, 6, 6, 4, 2, 2, 3, 6, 6, 5, 1, 0, 8, 7, 5, 0, 1, 1, 7, 6, 4, 9, 8,\n",
       "        0, 8, 1, 9, 6, 8, 7, 7, 7, 4, 4, 2, 2, 8, 0, 8, 9, 4, 3, 5, 8, 2, 8, 7,\n",
       "        2, 1, 8, 9, 5, 5, 2, 0, 7, 1, 8, 3, 9, 7, 3, 5, 1, 3, 4, 7, 4, 1, 1, 6,\n",
       "        8, 5, 6, 7], device='cuda:0')"
      ]
     },
     "execution_count": 31,
     "metadata": {},
     "output_type": "execute_result"
    }
   ],
   "source": [
    "pred"
   ]
  },
  {
   "cell_type": "code",
   "execution_count": 32,
   "metadata": {
    "executionInfo": {
     "elapsed": 363,
     "status": "ok",
     "timestamp": 1706974725465,
     "user": {
      "displayName": "koki hinaiji",
      "userId": "17287321249308146344"
     },
     "user_tz": -540
    },
    "id": "5avUheVwnndb"
   },
   "outputs": [],
   "source": [
    "params=model.state_dict()#モデルの重みやバイアスを抜き出す"
   ]
  },
  {
   "cell_type": "code",
   "execution_count": 33,
   "metadata": {
    "executionInfo": {
     "elapsed": 566,
     "status": "ok",
     "timestamp": 1706974762524,
     "user": {
      "displayName": "koki hinaiji",
      "userId": "17287321249308146344"
     },
     "user_tz": -540
    },
    "id": "1yxtxEb5n0lO"
   },
   "outputs": [],
   "source": [
    "torch.save(params,\"model.prm\")#保存"
   ]
  },
  {
   "cell_type": "code",
   "execution_count": 34,
   "metadata": {
    "colab": {
     "base_uri": "https://localhost:8080/"
    },
    "executionInfo": {
     "elapsed": 380,
     "status": "ok",
     "timestamp": 1706974792628,
     "user": {
      "displayName": "koki hinaiji",
      "userId": "17287321249308146344"
     },
     "user_tz": -540
    },
    "id": "Q4kbKAXgn9jz",
    "outputId": "d0f7f4bb-2311-4c72-9918-b465d258da72"
   },
   "outputs": [
    {
     "name": "stdout",
     "output_type": "stream",
     "text": [
      "data  model.prm  sample_data\n"
     ]
    }
   ],
   "source": [
    "!ls"
   ]
  },
  {
   "cell_type": "code",
   "execution_count": 35,
   "metadata": {
    "executionInfo": {
     "elapsed": 441,
     "status": "ok",
     "timestamp": 1706974845353,
     "user": {
      "displayName": "koki hinaiji",
      "userId": "17287321249308146344"
     },
     "user_tz": -540
    },
    "id": "TPwXkrnBoKBx"
   },
   "outputs": [],
   "source": [
    "param_load=torch.load(\"model.prm\")#読込み"
   ]
  },
  {
   "cell_type": "code",
   "execution_count": 36,
   "metadata": {
    "colab": {
     "base_uri": "https://localhost:8080/"
    },
    "executionInfo": {
     "elapsed": 2,
     "status": "ok",
     "timestamp": 1706974902200,
     "user": {
      "displayName": "koki hinaiji",
      "userId": "17287321249308146344"
     },
     "user_tz": -540
    },
    "id": "_YEhhmZZoRQu",
    "outputId": "c71243de-97e8-4a2d-8cfc-d897911e5d7b"
   },
   "outputs": [
    {
     "data": {
      "text/plain": [
       "<All keys matched successfully>"
      ]
     },
     "execution_count": 36,
     "metadata": {},
     "output_type": "execute_result"
    }
   ],
   "source": [
    "model.load_state_dict(param_load)"
   ]
  },
  {
   "cell_type": "code",
   "execution_count": null,
   "metadata": {
    "id": "ECoch06OoSVa"
   },
   "outputs": [],
   "source": []
  }
 ],
 "metadata": {
  "accelerator": "GPU",
  "colab": {
   "authorship_tag": "ABX9TyObX8swDwxCydlW2HmRYzyL",
   "gpuType": "T4",
   "provenance": []
  },
  "kernelspec": {
   "display_name": "Python 3",
   "name": "python3"
  },
  "language_info": {
   "name": "python"
  }
 },
 "nbformat": 4,
 "nbformat_minor": 0
}
